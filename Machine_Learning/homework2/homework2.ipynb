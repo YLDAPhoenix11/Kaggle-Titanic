{
 "cells": [
  {
   "cell_type": "markdown",
   "metadata": {},
   "source": [
    "# Problem 2"
   ]
  },
  {
   "cell_type": "code",
   "execution_count": 1,
   "metadata": {},
   "outputs": [],
   "source": [
    "import numpy as np\n",
    "import pandas as pd\n",
    "import matplotlib.pyplot as plt\n",
    "from scipy import stats"
   ]
  },
  {
   "cell_type": "code",
   "execution_count": 2,
   "metadata": {},
   "outputs": [],
   "source": [
    "#read data\n",
    "X = pd.read_csv(\"X.csv\", header = None)\n",
    "y = pd.read_csv(\"y.csv\", header = None)"
   ]
  },
  {
   "cell_type": "code",
   "execution_count": 3,
   "metadata": {
    "code_folding": []
   },
   "outputs": [],
   "source": [
    "def kflod_split(df, k = 10, stratified = False, random_state = None):\n",
    "    \"\"\"\n",
    "    Args: \n",
    "        df: dataframe\n",
    "        k: int, number of folds, default 10\n",
    "        stratified: boolean, if True, stratified, otherwise not\n",
    "        random_state: int or numpy.random.RandomState, optional\n",
    "    Returns: \n",
    "        a list of k dataframes\n",
    "    \"\"\"\n",
    "    res = []\n",
    "    length = int(df.shape[0]/k)\n",
    "    df = df.sample(frac = 1, random_state=random_state)\n",
    "    for i in range(0,k):\n",
    "        df_new = df[i*length:(i+1)*length]\n",
    "        res.append(df_new)\n",
    "    return res"
   ]
  },
  {
   "cell_type": "code",
   "execution_count": 4,
   "metadata": {},
   "outputs": [],
   "source": [
    "data = pd.concat([X,y],axis = 1)\n",
    "datum = kflod_split(data,random_state=11)"
   ]
  },
  {
   "cell_type": "markdown",
   "metadata": {},
   "source": [
    "## (a)  naive Bayes classifier"
   ]
  },
  {
   "cell_type": "code",
   "execution_count": 5,
   "metadata": {},
   "outputs": [],
   "source": [
    "def Pi(y):\n",
    "    \"\"\"\n",
    "    input:\n",
    "        y: dataframe\n",
    "    output:\n",
    "        pi: float\n",
    "    \"\"\"\n",
    "    y_values = y.iloc[:,0].unique()\n",
    "    n = y.shape[0]\n",
    "    pi = {}\n",
    "    for k in y_values:\n",
    "        y_k = y.loc[y.iloc[:,0]==k]\n",
    "        s = y_k.shape[0]\n",
    "        temp  = s/n\n",
    "        pi[k] = temp\n",
    "    return pi"
   ]
  },
  {
   "cell_type": "code",
   "execution_count": 6,
   "metadata": {},
   "outputs": [],
   "source": [
    "def Lambdas(df):\n",
    "    \"\"\"\n",
    "    input:\n",
    "        data: dataframe, with y is the last column\n",
    "    output:\n",
    "        lambdas: a list of array\n",
    "    \"\"\"\n",
    "    y_values = data.iloc[:,-1].unique()  #get all the values of y\n",
    "    dfs = {}\n",
    "    lambdas = {}\n",
    "    for k in y_values:\n",
    "        dfs[k] = df.loc[df.iloc[:,-1] == k]\n",
    "        n = dfs[k].shape[0]\n",
    "        temp = (dfs[k].iloc[:,0:-1].sum(axis=0)+1)/(n+1)\n",
    "        temp = np.array(temp)\n",
    "        lambdas[k] = temp\n",
    "    return lambdas"
   ]
  },
  {
   "cell_type": "code",
   "execution_count": 7,
   "metadata": {},
   "outputs": [],
   "source": [
    "def naive_Bayes_classifier(X,y,X_test):\n",
    "    \"\"\"\n",
    "    input: \n",
    "        X: dataframe\n",
    "        y: dataframe\n",
    "        X_test: dataframe\n",
    "    output:\n",
    "        y_predict: dataframe\n",
    "    \"\"\"\n",
    "    y_predict = []\n",
    "    df = pd.concat([X,y],axis = 1)\n",
    "    pi = Pi(y)\n",
    "    lambdas = Lambdas(df)\n",
    "    for i in range(0,X_test.shape[0]):\n",
    "        X0 = X_test.iloc[i]    #X0 is one row of X_test\n",
    "        X0 = np.array(X0)\n",
    "        y_scores = {}    #calculate the scores for different y_values\n",
    "        y_values = y.iloc[:,0].unique()  #y_values is the unique values of y e.g:{0,1,2,...,k}\n",
    "        for k in y_values:\n",
    "            y_score = pi[k]*np.exp(-sum(lambdas[k]))*np.prod(np.power(lambdas[k],X0))\n",
    "            y_scores[k] = y_score\n",
    "        y_scores = pd.Series(y_scores)\n",
    "        y0 = y_scores.idxmax()    #get the index name of the max score, y0 is the prediction of X0 row\n",
    "        y_predict.append(y0)\n",
    "    y_predict = pd.DataFrame(y_predict)   \n",
    "    return y_predict, lambdas"
   ]
  },
  {
   "cell_type": "code",
   "execution_count": 8,
   "metadata": {},
   "outputs": [],
   "source": [
    "def confusion_matrix(y_pred,y_test):   #this method is valid when y_values  = [0,1] or y_values = [-1,1]\n",
    "    \"\"\"\n",
    "    input:\n",
    "        y_pred: numpy array\n",
    "        y_test: numpy array\n",
    "        they must be of same shape(n,1)\n",
    "    output:\n",
    "        TP: y_pred = 1 and y_test = 1\n",
    "        FP: y_pred = 1 and y_test = 0\n",
    "        FN: y_pred = 0 and y_test = 1\n",
    "        TN: y_pred = 0 and y_test = 0\n",
    "    \"\"\"\n",
    "    if y_pred.shape[0]!=y_test.shape[0]:\n",
    "        raise ValueError(\"two dataframe must have the same length!\")\n",
    "    if y_pred.shape[1]!=1 or y_test.shape[1]!=1:\n",
    "        raise ValueError(\"this method can only deal with binary classification\")\n",
    "    TP = 0\n",
    "    FP = 0\n",
    "    FN = 0\n",
    "    TN = 0\n",
    "    y_pred = np.where(y_pred==-1, 0, y_pred)\n",
    "    y_test = np.where(y_test==-1, 0, y_test)\n",
    "    for i in range(y_pred.shape[0]):\n",
    "        if y_pred[i]== 1 and y_test[i]==1:\n",
    "            TP = TP+1\n",
    "        elif y_pred[i]== 1 and y_test[i]==0:\n",
    "            FP = FP+1\n",
    "        elif y_pred[i]== 0 and y_test[i]==1: \n",
    "            FN = FN+1\n",
    "        elif y_pred[i]== 0 and y_test[i]==0:\n",
    "            TN = TN+1\n",
    "        else:\n",
    "            raise ValueError(\"please limit the value of y to 0 and 1\")\n",
    "    return TP,FP,FN,TN"
   ]
  },
  {
   "cell_type": "code",
   "execution_count": 9,
   "metadata": {},
   "outputs": [
    {
     "name": "stderr",
     "output_type": "stream",
     "text": [
      "/anaconda3/lib/python3.7/site-packages/ipykernel_launcher.py:20: RuntimeWarning: overflow encountered in power\n",
      "/anaconda3/lib/python3.7/site-packages/numpy/core/fromnumeric.py:83: RuntimeWarning: overflow encountered in reduce\n",
      "  return ufunc.reduce(obj, axis, dtype, out, **passkwargs)\n"
     ]
    }
   ],
   "source": [
    "cv = 10\n",
    "TP_all = 0\n",
    "FP_all = 0  \n",
    "FN_all = 0\n",
    "TN_all = 0\n",
    "lambda_0 = [0]*X.shape[1]\n",
    "lambda_1 = [0]*X.shape[1]\n",
    "\n",
    "for i in list(range(cv)):\n",
    "    test = datum[i]\n",
    "    train = datum[:i]+datum[(i+1):]\n",
    "    train = pd.concat(train,ignore_index=True)\n",
    "    X_test = test.iloc[:,0:-1]\n",
    "    y_test = test.iloc[:,-1:]\n",
    "    X_train = train.iloc[:,0:-1]\n",
    "    y_train = train.iloc[:,-1:]\n",
    "    y_pred, lambdas = naive_Bayes_classifier(X_train,y_train,X_test)\n",
    "    y_pred = np.array(y_pred)\n",
    "    y_test = np.array(y_test)\n",
    "    TP,FP,FN,TN = confusion_matrix(y_pred,y_test)   #TP, FP,FN, TN is the value of one fold\n",
    "    TP_all = TP_all+TP\n",
    "    FP_all = FP_all+FP\n",
    "    FN_all = FN_all+FN\n",
    "    TN_all = TN_all+TN    #TP_all, FP_all,FN_all, TN_all is the value of 10 folds (when cv = 10)\n",
    "    lambda_0 = [sum(x) for x in zip(lambda_0,lambdas[0])]\n",
    "    lambda_1 = [sum(x) for x in zip(lambda_1,lambdas[1])]\n",
    "lambda_0 = [x/cv for x in lambda_0]\n",
    "lambda_1 = [x/cv for x in lambda_1]"
   ]
  },
  {
   "cell_type": "code",
   "execution_count": 10,
   "metadata": {
    "scrolled": true
   },
   "outputs": [
    {
     "data": {
      "text/plain": [
       "1713"
      ]
     },
     "execution_count": 10,
     "metadata": {},
     "output_type": "execute_result"
    }
   ],
   "source": [
    "TP_all"
   ]
  },
  {
   "cell_type": "code",
   "execution_count": 11,
   "metadata": {},
   "outputs": [
    {
     "data": {
      "text/plain": [
       "487"
      ]
     },
     "execution_count": 11,
     "metadata": {},
     "output_type": "execute_result"
    }
   ],
   "source": [
    "FP_all"
   ]
  },
  {
   "cell_type": "code",
   "execution_count": 12,
   "metadata": {},
   "outputs": [
    {
     "data": {
      "text/plain": [
       "100"
      ]
     },
     "execution_count": 12,
     "metadata": {},
     "output_type": "execute_result"
    }
   ],
   "source": [
    "FN_all"
   ]
  },
  {
   "cell_type": "code",
   "execution_count": 13,
   "metadata": {},
   "outputs": [
    {
     "data": {
      "text/plain": [
       "2300"
      ]
     },
     "execution_count": 13,
     "metadata": {},
     "output_type": "execute_result"
    }
   ],
   "source": [
    "TN_all"
   ]
  },
  {
   "cell_type": "code",
   "execution_count": 14,
   "metadata": {},
   "outputs": [
    {
     "data": {
      "text/plain": [
       "0.8723913043478261"
      ]
     },
     "execution_count": 14,
     "metadata": {},
     "output_type": "execute_result"
    }
   ],
   "source": [
    "prediction_accuracy = (TP_all+TN_all)/data.shape[0]\n",
    "prediction_accuracy"
   ]
  },
  {
   "cell_type": "markdown",
   "metadata": {},
   "source": [
    "-|- |Ground |truth\n",
    "--- | --- | --- | ---\n",
    "-         |-    | 1 | 0\n",
    "**Model**|1| 1713 | 487\n",
    "**prediction**|0 | 100 | 2300\n",
    "\n",
    "prediction accuracy = 0.8723913043478261"
   ]
  },
  {
   "cell_type": "markdown",
   "metadata": {},
   "source": [
    "## (b) stem plot"
   ]
  },
  {
   "cell_type": "code",
   "execution_count": 15,
   "metadata": {
    "scrolled": true
   },
   "outputs": [
    {
     "data": {
      "text/plain": [
       "<matplotlib.legend.Legend at 0x1a237767b8>"
      ]
     },
     "execution_count": 15,
     "metadata": {},
     "output_type": "execute_result"
    },
    {
     "data": {
      "image/png": "[encoded data removed]",
      "text/plain": [
       "<Figure size 1152x648 with 1 Axes>"
      ]
     },
     "metadata": {
      "needs_background": "light"
     },
     "output_type": "display_data"
    }
   ],
   "source": [
    "plt.figure(figsize=(16,9))\n",
    "lambda_0_line = plt.stem(lambda_0, label = \"$\\lambda_0$ \")\n",
    "lambda_1_line = plt.stem(lambda_1, label = \"$\\lambda_1$ \")\n",
    "plt.setp(lambda_0_line, color='k', linewidth=2)\n",
    "plt.setp(lambda_1_line, color='r', linewidth=2)\n",
    "plt.title(\"54 Poisson parameters\")\n",
    "plt.xticks([0.,  9., 19.,  29.,  39.,  49.],[\"1\",\"10\",\"20\",\"30\",\"40\",\"50\"])\n",
    "plt.xlabel(\"dimensions\")\n",
    "plt.legend()"
   ]
  },
  {
   "cell_type": "code",
   "execution_count": 16,
   "metadata": {},
   "outputs": [
    {
     "data": {
      "text/plain": [
       "0.7396691120286639"
      ]
     },
     "execution_count": 16,
     "metadata": {},
     "output_type": "execute_result"
    }
   ],
   "source": [
    "lambda_0[15]"
   ]
  },
  {
   "cell_type": "code",
   "execution_count": 17,
   "metadata": {},
   "outputs": [
    {
     "data": {
      "text/plain": [
       "5.213599942325974"
      ]
     },
     "execution_count": 17,
     "metadata": {},
     "output_type": "execute_result"
    }
   ],
   "source": [
    "lambda_1[15]"
   ]
  },
  {
   "cell_type": "code",
   "execution_count": 18,
   "metadata": {},
   "outputs": [
    {
     "data": {
      "text/plain": [
       "1.0960560826179155"
      ]
     },
     "execution_count": 18,
     "metadata": {},
     "output_type": "execute_result"
    }
   ],
   "source": [
    "lambda_0[51]"
   ]
  },
  {
   "cell_type": "code",
   "execution_count": 19,
   "metadata": {},
   "outputs": [
    {
     "data": {
      "text/plain": [
       "5.129292855695839"
      ]
     },
     "execution_count": 19,
     "metadata": {},
     "output_type": "execute_result"
    }
   ],
   "source": [
    "lambda_1[51]"
   ]
  },
  {
   "cell_type": "markdown",
   "metadata": {},
   "source": [
    "For dimension 16, $\\lambda_1$ = 5.21, is higher than $\\lambda_0$ = 0.74. And this dimension represents the word \"free\". It means in 100 spam email, averagely \"free\" will appear 521 times; and in 100 non-spam emails, averagely \"free\" will appear 74 times. In spam email, \"free\" is 7 times more likely to appear. It is intuitive since many promotion emails contain the word \"free\".                                 \n",
    "For dimension 52, $\\lambda_1$ = 5.12, is higher than $\\lambda_0$ = 1.10. This dimension represents the symbol \"!\". It means in 100 spam email, averagely \"!\" will appear 512 times; and in 100 non-spam emails, averagely \"!\" will appear 110 times. In spam email, \"!\" is 5 times more likely to appear. It corresponds to our intuition because spam emails tend to use \"!\" to attract readers. And it non-spam email, people are more likely to use \"!\" than \"free\" to express their emotion. So averagely \"!\" appears more times in non-spam email."
   ]
  },
  {
   "cell_type": "markdown",
   "metadata": {},
   "source": [
    "## (c) $k$-NN classifier"
   ]
  },
  {
   "cell_type": "code",
   "execution_count": 22,
   "metadata": {},
   "outputs": [],
   "source": [
    "def KNN(X,y,X_test,k):\n",
    "    \"\"\"\n",
    "    input: \n",
    "        X: dataframe\n",
    "        y: dataframe\n",
    "        X_test: dataframe\n",
    "        k: int\n",
    "    output:\n",
    "        y_predict: numpy array\n",
    "    \"\"\"\n",
    "    X = np.array(X)\n",
    "    y = np.array(y)\n",
    "    X_test = np.array(X_test)\n",
    "    y_predict = []\n",
    "    for i in range(X_test.shape[0]):\n",
    "        y_near = []\n",
    "        X0 = X_test[i]\n",
    "        X0 = np.array(X0)\n",
    "        y_index = np.argsort(np.sum(abs(X_train-X0),axis = 1))[:k]\n",
    "        for index in y_index:\n",
    "            y_near.append(y[index])\n",
    "        y0 = stats.mode(y_near)[0]\n",
    "        # here we using stats.mode, thus there are more than one mode, only the smallest(0) will be return\n",
    "        # considering using the nearest\n",
    "        y_predict.append(y0)\n",
    "    y_predict = np.array(y_predict) \n",
    "    return y_predict"
   ]
  },
  {
   "cell_type": "code",
   "execution_count": 23,
   "metadata": {},
   "outputs": [],
   "source": [
    "cv = 10\n",
    "prediction_accuracys = {}\n",
    "for k in range(1,21):\n",
    "    TP_all = 0\n",
    "    FP_all = 0\n",
    "    FN_all = 0\n",
    "    TN_all = 0\n",
    "    for i in list(range(cv)):\n",
    "        test = datum[i]\n",
    "        train = datum[:i]+datum[(i+1):]\n",
    "        train = pd.concat(train,ignore_index=True)\n",
    "        X_test = test.iloc[:,0:-1]\n",
    "        y_test = test.iloc[:,-1:]\n",
    "        X_train = train.iloc[:,0:-1]\n",
    "        y_train = train.iloc[:,-1:]\n",
    "        y_pred = KNN(X_train,y_train,X_test,k)\n",
    "        y_pred = np.array(y_pred)\n",
    "        y_test = np.array(y_test)\n",
    "        TP,FP,FN,TN = confusion_matrix(y_pred,y_test)\n",
    "        TP_all = TP_all+TP\n",
    "        FP_all = FP_all+FP\n",
    "        FN_all = FN_all+FN\n",
    "        TN_all = TN_all+TN\n",
    "    prediction_accuracy = (TP_all+TN_all)/(TP_all+FP_all+FN_all+TN_all)\n",
    "    prediction_accuracys[k] = prediction_accuracy"
   ]
  },
  {
   "cell_type": "code",
   "execution_count": 24,
   "metadata": {},
   "outputs": [],
   "source": [
    "prediction_accuracys = pd.DataFrame.from_dict(prediction_accuracys, orient=\"index\")"
   ]
  },
  {
   "cell_type": "code",
   "execution_count": 25,
   "metadata": {},
   "outputs": [
    {
     "data": {
      "image/png": "[encoded data removed]",
      "text/plain": [
       "<Figure size 1080x360 with 1 Axes>"
      ]
     },
     "metadata": {
      "needs_background": "light"
     },
     "output_type": "display_data"
    }
   ],
   "source": [
    "prediction_accuracys.plot(figsize=(15,5), legend=None)\n",
    "plt.xlabel(\"k\")\n",
    "plt.ylabel(\"prediction accuracy\")\n",
    "plt.xticks(np.arange(1,21,1))\n",
    "_ = plt.title(\"prediction accuracy ~ k\")"
   ]
  },
  {
   "cell_type": "markdown",
   "metadata": {},
   "source": [
    "##  (d) logistic regression with steepest ascent algorithm"
   ]
  },
  {
   "cell_type": "code",
   "execution_count": 5,
   "metadata": {},
   "outputs": [],
   "source": [
    "y = y.replace(0,-1)\n",
    "data = pd.concat([X,y],axis = 1)\n",
    "datum = kflod_split(data,random_state=11)"
   ]
  },
  {
   "cell_type": "code",
   "execution_count": 6,
   "metadata": {},
   "outputs": [],
   "source": [
    "#def sigmoid function\n",
    "def sigmoid(X,w,y):\n",
    "    \"\"\"\n",
    "    Args:\n",
    "        X: numpy array\n",
    "        w: numpy array\n",
    "        y: numpy array\n",
    "    Returns:\n",
    "        numpy array\n",
    "    \"\"\"\n",
    "    return np.exp(y*np.dot(X,w))/(1+np.exp(y*np.dot(X,w)))"
   ]
  },
  {
   "cell_type": "code",
   "execution_count": 7,
   "metadata": {},
   "outputs": [],
   "source": [
    "def derivative_L(X,w,y):\n",
    "    \"\"\"\n",
    "    input:\n",
    "        X: numpy array\n",
    "        w: numpy array\n",
    "        y: numpy array\n",
    "    output:\n",
    "        derivative_L: numpy array\n",
    "    \"\"\"\n",
    "    temp = 1-sigmoid(X,w,y)\n",
    "    temp = temp*y\n",
    "    temp = temp*X\n",
    "    temp = np.sum(temp,axis = 0)   #the shape of the result is (55,), so I reshape it\n",
    "    derivative_L = temp.reshape(w.shape[0],1)\n",
    "    return derivative_L  "
   ]
  },
  {
   "cell_type": "code",
   "execution_count": 8,
   "metadata": {},
   "outputs": [],
   "source": [
    "def steepest_ascent(X,y,iteration,stepsize):\n",
    "    \"\"\"\n",
    "    input: \n",
    "        X: dataframe\n",
    "        y: dataframe\n",
    "        X_test: dataframe\n",
    "    output:\n",
    "        w: numpy array shape: X.shape[1]*1\n",
    "        L: logistic regression objective training function\n",
    "    \"\"\"\n",
    "    X = np.array(X)\n",
    "    ones = np.ones((X.shape[0],1))\n",
    "    X = np.hstack((ones,X))\n",
    "    w = np.zeros((X.shape[1],1))\n",
    "    y = np.array(y)\n",
    "    Ls = []\n",
    "    for i in range(0, iteration):\n",
    "        temp = derivative_L(X,w,y)\n",
    "        w = w+stepsize*temp\n",
    "        #w = w+stepsize*np.sum(((1-sigmoid(X,w,y))*y)*X,axis = 0).reshape(w.shape[0],1) \n",
    "        L = np.sum(np.log(sigmoid(X,w,y)))\n",
    "        Ls.append(L)\n",
    "    return w, Ls"
   ]
  },
  {
   "cell_type": "code",
   "execution_count": 9,
   "metadata": {},
   "outputs": [],
   "source": [
    "step_size = 0.01/4600"
   ]
  },
  {
   "cell_type": "code",
   "execution_count": 10,
   "metadata": {},
   "outputs": [],
   "source": [
    "Ls = {}\n",
    "cv = 10\n",
    "for i in list(range(cv)):\n",
    "    train = datum[:i]+datum[(i+1):]\n",
    "    train = pd.concat(train,ignore_index=True)\n",
    "    X_train = train.iloc[:,0:-1]\n",
    "    y_train = train.iloc[:,-1:]\n",
    "    w, L = steepest_ascent(X_train, y_train, 1000,step_size)\n",
    "    Ls[i+1] = L"
   ]
  },
  {
   "cell_type": "code",
   "execution_count": 32,
   "metadata": {},
   "outputs": [],
   "source": [
    "Ls = pd.DataFrame.from_dict(Ls)"
   ]
  },
  {
   "cell_type": "code",
   "execution_count": 33,
   "metadata": {},
   "outputs": [
    {
     "data": {
      "text/plain": [
       "<matplotlib.legend.Legend at 0x1a222e3358>"
      ]
     },
     "execution_count": 33,
     "metadata": {},
     "output_type": "execute_result"
    },
    {
     "data": {
      "image/png": "[encoded data removed]",
      "text/plain": [
       "<Figure size 432x288 with 1 Axes>"
      ]
     },
     "metadata": {
      "needs_background": "light"
     },
     "output_type": "display_data"
    }
   ],
   "source": [
    "Ls.plot()\n",
    "plt.xlabel(\"number of iteration\")\n",
    "plt.title(\"logistic regression objective training function\")\n",
    "plt.legend()"
   ]
  },
  {
   "cell_type": "markdown",
   "metadata": {},
   "source": [
    "## (e) logistic regression with Newton’s method"
   ]
  },
  {
   "cell_type": "code",
   "execution_count": 34,
   "metadata": {},
   "outputs": [],
   "source": [
    "def inverse_hessian(X,w,y):\n",
    "    \"\"\"\n",
    "    Args:\n",
    "        X: numpy array\n",
    "        w: numpy array\n",
    "        y: numpy array\n",
    "    Returns:\n",
    "        inverse_hessian: inverse of hessian matrix(second derivative of L); numpy array\n",
    "    \"\"\"\n",
    "    a = np.zeros((55,55))\n",
    "    np.fill_diagonal(a,pow(10,-2))\n",
    "    #np.fill_diagonal(a,pow(10,-6))   it still has NaN despite that I add 1e-6 to the diagonal, so I add 1e-2\n",
    "    hessian = np.zeros((55,55))\n",
    "    for i in range(0,X.shape[0]):\n",
    "        temp = sigmoid(X[i],w,y[i])*(sigmoid(X[i],w,y[i])-1)#*y[i]*y[i]\n",
    "        temp = temp*np.outer(X[i],X[i])    #Note: using outer here, don't use np.dot(np.transpose(X),X), since X.shape = (55,), using dot we will get a number\n",
    "        hessian = hessian+temp     \n",
    "    hessian = hessian - a\n",
    "    inverse_hessian = np.linalg.inv(hessian)\n",
    "    return inverse_hessian"
   ]
  },
  {
   "cell_type": "code",
   "execution_count": 35,
   "metadata": {},
   "outputs": [],
   "source": [
    "def newton_method(X,y,iteration):\n",
    "    \"\"\"\n",
    "    Args:\n",
    "        X: X_train, dataframe\n",
    "        y: y_train, dataframe\n",
    "        iteration: number of iterations, int\n",
    "    Returns:\n",
    "        w: numpy array shape: X.shape[1]*1\n",
    "        L: logistic regression objective training function\n",
    "    \"\"\"\n",
    "    X = np.array(X)\n",
    "    ones = np.ones((X.shape[0],1))\n",
    "    X = np.hstack((ones,X))\n",
    "    w = np.zeros((X.shape[1],1))\n",
    "    y = np.array(y)\n",
    "    Ls = []\n",
    "    for i in range(0, iteration):\n",
    "        L = np.sum(np.log(sigmoid(X,w,y)))\n",
    "        w = w - np.dot(inverse_hessian(X,w,y),derivative_L(X,w,y))\n",
    "        Ls.append(L)\n",
    "        \"\"\"\n",
    "        if np.isnan(w_nex).any()==True:     #these code is for breaking the loop earlier\n",
    "            continue;\n",
    "        else:\n",
    "            w_pre = w_nex\n",
    "        \"\"\"    \n",
    "    return w, Ls        "
   ]
  },
  {
   "cell_type": "code",
   "execution_count": 36,
   "metadata": {},
   "outputs": [],
   "source": [
    "Ls = {}\n",
    "cv = 10\n",
    "for i in list(range(cv)):\n",
    "    train = datum[:i]+datum[(i+1):]\n",
    "    train = pd.concat(train,ignore_index=True)\n",
    "    X_train = train.iloc[:,0:-1]\n",
    "    y_train = train.iloc[:,-1:]\n",
    "    w, L = newton_method(X_train, y_train, 100)\n",
    "    Ls[i+1] = L"
   ]
  },
  {
   "cell_type": "code",
   "execution_count": 37,
   "metadata": {},
   "outputs": [],
   "source": [
    "Ls = pd.DataFrame.from_dict(Ls)"
   ]
  },
  {
   "cell_type": "code",
   "execution_count": 38,
   "metadata": {
    "scrolled": true
   },
   "outputs": [
    {
     "data": {
      "text/plain": [
       "<matplotlib.legend.Legend at 0x1a240cd668>"
      ]
     },
     "execution_count": 38,
     "metadata": {},
     "output_type": "execute_result"
    },
    {
     "data": {
      "image/png": "[encoded data removed]",
      "text/plain": [
       "<Figure size 432x288 with 1 Axes>"
      ]
     },
     "metadata": {
      "needs_background": "light"
     },
     "output_type": "display_data"
    }
   ],
   "source": [
    "Ls.plot()\n",
    "plt.xlabel(\"number of iteration\")\n",
    "plt.title(\"objective function\")\n",
    "plt.legend()"
   ]
  },
  {
   "cell_type": "markdown",
   "metadata": {},
   "source": [
    "## (f)"
   ]
  },
  {
   "cell_type": "code",
   "execution_count": 39,
   "metadata": {},
   "outputs": [],
   "source": [
    "def logistic_prediction(X,w):\n",
    "    \"\"\"\n",
    "    Args:\n",
    "        X: X_test, dataframe\n",
    "        w: numpy array\n",
    "    Returs:\n",
    "        y_predict: prediction of y, numpy array\n",
    "    \"\"\"\n",
    "    X = np.array(X)\n",
    "    ones = np.ones((X.shape[0],1))\n",
    "    X = np.hstack((ones,X))\n",
    "    y_predict = np.exp(np.dot(X,w))/(1+np.exp(np.dot(X,w)))\n",
    "    y_predict[y_predict>=0.5] = 1\n",
    "    y_predict[y_predict<0.5] = -1     \n",
    "    return y_predict"
   ]
  },
  {
   "cell_type": "code",
   "execution_count": 40,
   "metadata": {},
   "outputs": [],
   "source": [
    "TP_all = 0\n",
    "FP_all = 0\n",
    "FN_all = 0\n",
    "TN_all = 0    \n",
    "for i in list(range(cv)):\n",
    "    test = datum[i]\n",
    "    train = datum[:i]+datum[(i+1):]\n",
    "    train = pd.concat(train,ignore_index=True)\n",
    "    X_train = train.iloc[:,0:-1]\n",
    "    y_train = train.iloc[:,-1:]\n",
    "    X_test = test.iloc[:,0:-1]\n",
    "    y_test = test.iloc[:,-1:]    \n",
    "    w, _ = newton_method(X_train, y_train, 100)\n",
    "    y_pred = logistic_prediction(X_test,w)\n",
    "    y_test = np.array(y_test)    \n",
    "    TP,FP,FN,TN = confusion_matrix(y_pred,y_test)   #TP, FP,FN, TN is the value of one fold\n",
    "    TP_all = TP_all+TP\n",
    "    FP_all = FP_all+FP\n",
    "    FN_all = FN_all+FN\n",
    "    TN_all = TN_all+TN"
   ]
  },
  {
   "cell_type": "code",
   "execution_count": 41,
   "metadata": {},
   "outputs": [
    {
     "data": {
      "text/plain": [
       "1592"
      ]
     },
     "execution_count": 41,
     "metadata": {},
     "output_type": "execute_result"
    }
   ],
   "source": [
    "TP_all"
   ]
  },
  {
   "cell_type": "code",
   "execution_count": 42,
   "metadata": {},
   "outputs": [
    {
     "data": {
      "text/plain": [
       "140"
      ]
     },
     "execution_count": 42,
     "metadata": {},
     "output_type": "execute_result"
    }
   ],
   "source": [
    "FP_all"
   ]
  },
  {
   "cell_type": "code",
   "execution_count": 43,
   "metadata": {},
   "outputs": [
    {
     "data": {
      "text/plain": [
       "221"
      ]
     },
     "execution_count": 43,
     "metadata": {},
     "output_type": "execute_result"
    }
   ],
   "source": [
    "FN_all"
   ]
  },
  {
   "cell_type": "code",
   "execution_count": 44,
   "metadata": {},
   "outputs": [
    {
     "data": {
      "text/plain": [
       "2647"
      ]
     },
     "execution_count": 44,
     "metadata": {},
     "output_type": "execute_result"
    }
   ],
   "source": [
    "TN_all"
   ]
  },
  {
   "cell_type": "code",
   "execution_count": 45,
   "metadata": {},
   "outputs": [
    {
     "data": {
      "text/plain": [
       "0.9215217391304348"
      ]
     },
     "execution_count": 45,
     "metadata": {},
     "output_type": "execute_result"
    }
   ],
   "source": [
    "prediction_accuracy = (TP_all+TN_all)/data.shape[0]\n",
    "prediction_accuracy"
   ]
  },
  {
   "cell_type": "markdown",
   "metadata": {},
   "source": [
    " -|- |Ground |truth \n",
    "--- | --- | --- | ---\n",
    "-         |-    | 1 | 0\n",
    "**Model**|1| 1592 | 140\n",
    "**prediction**|0 | 221 | 2647\n",
    "\n",
    "prediction accuracy =0.9215217391304348"
   ]
  }
 ],
 "metadata": {
  "kernelspec": {
   "display_name": "Python 3",
   "language": "python",
   "name": "python3"
  },
  "language_info": {
   "codemirror_mode": {
    "name": "ipython",
    "version": 3
   },
   "file_extension": ".py",
   "mimetype": "text/x-python",
   "name": "python",
   "nbconvert_exporter": "python",
   "pygments_lexer": "ipython3",
   "version": "3.7.1"
  }
 },
 "nbformat": 4,
 "nbformat_minor": 2
}
